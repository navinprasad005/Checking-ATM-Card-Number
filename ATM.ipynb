{
 "cells": [
  {
   "cell_type": "markdown",
   "metadata": {},
   "source": [
    "Validity of ATM Card Number\n",
    "-\tFor an online payment Customers need to provide their Debit Card Number. The transactional site receives only a special type     of Cards. Cards which possess following Criterion, through those only payment is possible.\n",
    "-\tCriterion 1: It should be a 14-digit number.\n",
    "-\tCriterion 2: 3 Digits- 4 Digits - 4 Digits - 3 Digits\n",
    "-\tCriterion 3: There should not be any special characters apart for \"-\" or letters.\n",
    "-\tCriterion 4: There should not be any 3 consecutive repeated digits.\n",
    "-\tCriterion 5: There should not be any 0 in first three digits.\n",
    "-\tCriterion 6: Alternative group must end with same Digit. As in the first and third group of numbers must end with same digit     and the second and forth group of numbers must end with same digits.\n",
    "-\tIf any of the Criterion does not get satisfied show the \"Card number is Invalid\" otherwise show \"Card number is valid\"\n",
    "\n",
    "Input: Provide the Card Number: 123-2345-2343-235\n",
    "\n",
    "\n",
    "Output: Card number is valid"
   ]
  },
  {
   "cell_type": "code",
   "execution_count": 2,
   "metadata": {},
   "outputs": [
    {
     "name": "stdout",
     "output_type": "stream",
     "text": [
      "Provide the card number: 123-2345-2343-235\n",
      "Card number is valid\n"
     ]
    }
   ],
   "source": [
    "Number = str(input(\"Provide the card number: \"))    # 123-2345-2343-235\n",
    "\n",
    "def Criterion1():                                   # It should be a 14-digit number\n",
    "    Numbers1 = Number.replace('-','')\n",
    "    if len(Numbers1) ==14:\n",
    "        return 'Criterion 1 is satisfied'\n",
    "    else:\n",
    "        return 'Criterion 1 failed'\n",
    "\n",
    "def Criterion2():                                   # 3 Digits- 4 Digits - 4 Digits - 3 Digits\n",
    "    Numbers = Number.split('-')\n",
    "    if len(Numbers[0]) == 3 and len(Numbers[1]) == 4 and len(Numbers[2]) == 4 and len(Numbers[3]) == 3:\n",
    "        return 'Criterion 2 is satisfied'\n",
    "    else:\n",
    "        return 'Criterion 2 failed'    \n",
    "\n",
    "def Criterion3():                                   # There should not be any special characters apart for \"-\" or letters\n",
    "    Numbers1 = Number.replace('-','')\n",
    "    try:\n",
    "        int(Numbers1)\n",
    "        return 'Criterion 3 is satisfied'\n",
    "    except:\n",
    "        return 'Criterion 3 failed'\n",
    "    \n",
    "def Criterion4():                                   # There should not be any 3 consecutive repeated digits\n",
    "    Numbers1 = Number.replace('-','')\n",
    "    Numbers1 = list(Numbers1)\n",
    "    Numbers1 = list(map(lambda x: int(x), Numbers1))\n",
    "    t = 0\n",
    "    for i in range(len(Numbers1)-2):\n",
    "        if (Numbers1[i] == Numbers1[i+1] and Numbers1[i+1] == Numbers1[i+2]):\n",
    "            t = t+1\n",
    "    if t != 0:\n",
    "        return 'Criterion 4 is failed'\n",
    "    else:\n",
    "        return 'Criterion 4 is satisfied' \n",
    "\n",
    "def Criterion5():                                   # There should not be any 0 in first three digits. \n",
    "    Numbers1 = Number.replace('-','')\n",
    "    if Numbers1[0] == 0 or Numbers1[1] == 0 or Numbers1[2] == 0:\n",
    "        return 'Criterion 5 is failed'\n",
    "    else:\n",
    "        return 'Criterion 5 is satisfied'  \n",
    "\n",
    "def Criterion6():                                   # Alternative group must end with same Digit. \n",
    "    Numbers1 = Number.replace('-','')               # 12323452343235 -->0,1,2   3,4,5,6   7,8,9,10   11,12,13      \n",
    "    if (Numbers1[2] == Numbers1[10]) and (Numbers1[6] == Numbers1[13]):   \n",
    "        return 'Criterion 6 is satisfied'\n",
    "    else:\n",
    "        return 'Criterion 6 failed'    \n",
    "\n",
    "if (Criterion1() == 'Criterion 1 is satisfied') and (Criterion2() == 'Criterion 2 is satisfied') and (Criterion3() == 'Criterion 3 is satisfied') and (Criterion4() == 'Criterion 4 is satisfied') and (Criterion5() == 'Criterion 5 is satisfied') and (Criterion6() == 'Criterion 6 is satisfied'):\n",
    "    print('Card number is valid')\n",
    "\n",
    "else:\n",
    "    print('Card number is not valid')"
   ]
  }
 ],
 "metadata": {
  "kernelspec": {
   "display_name": "Python 3",
   "language": "python",
   "name": "python3"
  },
  "language_info": {
   "codemirror_mode": {
    "name": "ipython",
    "version": 3
   },
   "file_extension": ".py",
   "mimetype": "text/x-python",
   "name": "python",
   "nbconvert_exporter": "python",
   "pygments_lexer": "ipython3",
   "version": "3.7.6"
  }
 },
 "nbformat": 4,
 "nbformat_minor": 4
}
